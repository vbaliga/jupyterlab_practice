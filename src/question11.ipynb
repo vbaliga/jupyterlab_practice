{
 "cells": [
  {
   "cell_type": "markdown",
   "id": "35e80b86-196e-4c00-82d7-6a56c8df5e72",
   "metadata": {},
   "source": [
    "# Vikram Baliga\n",
    "Notebook for assignment 7"
   ]
  },
  {
   "cell_type": "code",
   "execution_count": 1,
   "id": "aa5ed0e1-381a-4278-9505-6577ba14ca6c",
   "metadata": {},
   "outputs": [
    {
     "name": "stdout",
     "output_type": "stream",
     "text": [
      "5.0\n"
     ]
    }
   ],
   "source": [
    "# Compute the mean of values of a supplied list\n",
    "def compute_mean(values):\n",
    "    # Calculate the mean\n",
    "    mean_value = sum(values) / len(values)\n",
    "    # Print it\n",
    "    print(mean_value)\n",
    "\n",
    "# Worked example\n",
    "compute_mean([2, 4, 6, 8])"
   ]
  },
  {
   "cell_type": "markdown",
   "id": "6528db24-fb12-4da0-b747-4098fbba37ab",
   "metadata": {},
   "source": [
    "### Explanation\n",
    "The `compute_mean()` function is a python function that computes the mean of a supplied list of values. The function then prints the computed mean to the output.\n",
    "\n",
    "The mean (or average) is computed using the formula:\n",
    "\n",
    "$$\\text{mean} = \\frac{1}{n} \\sum_{i=1}^n x_i$$\n",
    "\n",
    "where *x<sub>i</sub>* represents each value in the list, and *n* is the number of values in the list.\n",
    "\n",
    "The mean can also be thought of as:\n",
    "\n",
    "$$\\text{mean} = \\frac{x_1 + x_2 + \\cdots + x_n}{n}$$\n",
    "\n",
    "In both versions, the mean is calculated by dividing the sum of all values by the number of values.\n"
   ]
  },
  {
   "cell_type": "code",
   "execution_count": null,
   "id": "76d6a0e0-f76a-4b40-b355-78d15a5f3514",
   "metadata": {},
   "outputs": [],
   "source": []
  }
 ],
 "metadata": {
  "kernelspec": {
   "display_name": "Python [conda env:base] *",
   "language": "python",
   "name": "conda-base-py"
  },
  "language_info": {
   "codemirror_mode": {
    "name": "ipython",
    "version": 3
   },
   "file_extension": ".py",
   "mimetype": "text/x-python",
   "name": "python",
   "nbconvert_exporter": "python",
   "pygments_lexer": "ipython3",
   "version": "3.12.2"
  }
 },
 "nbformat": 4,
 "nbformat_minor": 5
}
